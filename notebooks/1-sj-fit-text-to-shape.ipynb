{
 "cells": [
  {
   "cell_type": "code",
   "execution_count": 202,
   "metadata": {},
   "outputs": [],
   "source": [
    "import matplotlib.pyplot as plt\n",
    "from matplotlib.patches import Rectangle\n",
    "from matplotlib.axes import Axes\n",
    "import textwrap\n",
    "from matplotlib.text import Text\n",
    "from matplotlib.figure import Figure\n",
    "from matplotlib.transforms import Bbox"
   ]
  },
  {
   "cell_type": "code",
   "execution_count": 201,
   "metadata": {},
   "outputs": [],
   "source": [
    "def init_card(printsize):\n",
    "    x_total, y_total = printsize\n",
    "    \n",
    "    fig, ax = plt.subplots()\n",
    "    fig.set_size_inches(printsize)\n",
    "    fig.subplots_adjust(left=0, bottom=0, right=1, top=1)\n",
    "\n",
    "    fig.set_facecolor(\"black\")\n",
    "    plt.axis(\"off\")\n",
    "\n",
    "    ax.set_xlim(0, x_total)\n",
    "    ax.set_ylim(0, y_total)\n",
    "\n",
    "    return fig, ax"
   ]
  },
  {
   "cell_type": "code",
   "execution_count": 73,
   "metadata": {},
   "outputs": [],
   "source": [
    "def add_mi(ax: Axes, bleed, card_size, misery_index):\n",
    "    x_size, y_size = card_size\n",
    "    x_total = x_size + 2 * bleed\n",
    "\n",
    "    # Add rectangle.\n",
    "    mi_block = Rectangle(\n",
    "        (bleed + x_size / 4, 0), x_size / 2, y_size / 8 + bleed, fc=\"yellow\"\n",
    "    )\n",
    "    ax.add_patch(mi_block)\n",
    "\n",
    "    # Add text\n",
    "    mi_desc = \"misery index\"\n",
    "    ax.text(\n",
    "        x_total / 2,\n",
    "        1.3 * y_size / 8 + bleed,\n",
    "        mi_desc.upper(),\n",
    "        horizontalalignment=\"center\",\n",
    "        color=\"yellow\",\n",
    "        fontsize=13,\n",
    "        weight=\"extra bold\",\n",
    "        verticalalignment=\"center\",\n",
    "    )\n",
    "\n",
    "    ax.text(\n",
    "        x_total / 2,\n",
    "        0.05 * y_size + bleed,\n",
    "        misery_index,\n",
    "        horizontalalignment=\"center\",\n",
    "        color=\"black\",\n",
    "        fontsize=23,\n",
    "        weight=\"extra bold\",\n",
    "        verticalalignment=\"center\",\n",
    "    )"
   ]
  },
  {
   "cell_type": "code",
   "execution_count": 270,
   "metadata": {},
   "outputs": [],
   "source": [
    "# settings\n",
    "cm = 1/2.54  # centimeters in inches\n",
    "x_size = 6.2 * cm\n",
    "y_size = 8.8 * cm\n",
    "card_size = (x_size, y_size)\n",
    "\n",
    "bleed = 0.5 * cm\n",
    "x_total = x_size + 2 * bleed\n",
    "y_total = y_size + 2 * bleed\n",
    "printsize = (x_total, y_total)\n",
    "\n",
    "desc_pad = 0.3 * cm"
   ]
  },
  {
   "cell_type": "code",
   "execution_count": 271,
   "metadata": {},
   "outputs": [],
   "source": [
    "situation = \"Dit is gewoon een verschrikkelijke kutsituatie die eigenlijk veel te lang is maar oké. Maar het kan nog langer! Kijk maar...\""
   ]
  },
  {
   "cell_type": "code",
   "execution_count": 282,
   "metadata": {},
   "outputs": [],
   "source": [
    "def add_description(ax: Axes, bleed, pad, card_size, txt: str):\n",
    "    x_size, y_size = card_size\n",
    "\n",
    "    if pad:\n",
    "        bleed += pad\n",
    "        x_size -= 2 * pad\n",
    "        y_size -= 2 * pad\n",
    "\n",
    "    rect = Rectangle((bleed, bleed + 0.6 * y_size), x_size, 0.4 * y_size, alpha=0)\n",
    "    ax.add_patch(rect)\n",
    "\n",
    "    # Get transformation to go from display to data-coordinates.\n",
    "    inv_data = ax.transData.inverted()\n",
    "\n",
    "    fig: Figure = ax.get_figure()\n",
    "    dpi = fig.dpi\n",
    "    rect_height_inch = rect.get_height() / dpi\n",
    "\n",
    "    # Initial fontsize according to the height of boxes\n",
    "    fontsize = rect_height_inch * 72\n",
    "\n",
    "    wrap_lines = 1\n",
    "    xy = (bleed + 0.5 * x_size, bleed + 0.95 * y_size)\n",
    "    while True:\n",
    "        wrapped_txt = \"\\n\".join(textwrap.wrap(txt, width=len(txt) // wrap_lines))\n",
    "        text: Text = ax.annotate(wrapped_txt, xy, ha=\"center\", va=\"top\", color=\"yellow\")\n",
    "        text.set_fontsize(fontsize)\n",
    "\n",
    "        # Adjust the fontsize according to the box size.\n",
    "        bbox: Bbox = text.get_window_extent()\n",
    "        inv_text_bbox = inv_data.transform(bbox)\n",
    "        width_text = inv_text_bbox[1][0] - inv_text_bbox[0][0]\n",
    "        adjusted_size = fontsize * rect.get_width() / width_text\n",
    "        if adjusted_size >= 11:\n",
    "            break\n",
    "        text.remove()\n",
    "        wrap_lines += 1\n",
    "    text.set_fontsize(adjusted_size)"
   ]
  },
  {
   "cell_type": "code",
   "execution_count": 284,
   "metadata": {},
   "outputs": [
    {
     "data": {
      "image/png": "[encoded data removed]",
      "text/plain": [
       "<Figure size 283.465x385.827 with 1 Axes>"
      ]
     },
     "metadata": {},
     "output_type": "display_data"
    }
   ],
   "source": [
    "fig, ax = init_card(printsize)\n",
    "\n",
    "add_mi(ax, bleed, card_size, 100)\n",
    "\n",
    "add_description(ax, bleed, desc_pad, card_size, situation)\n",
    "\n",
    "fig.savefig(\"test.pdf\")"
   ]
  },
  {
   "cell_type": "code",
   "execution_count": null,
   "metadata": {},
   "outputs": [],
   "source": []
  }
 ],
 "metadata": {
  "kernelspec": {
   "display_name": "shithappens",
   "language": "python",
   "name": "python3"
  },
  "language_info": {
   "codemirror_mode": {
    "name": "ipython",
    "version": 3
   },
   "file_extension": ".py",
   "mimetype": "text/x-python",
   "name": "python",
   "nbconvert_exporter": "python",
   "pygments_lexer": "ipython3",
   "version": "3.11.0"
  },
  "orig_nbformat": 4
 },
 "nbformat": 4,
 "nbformat_minor": 2
}
